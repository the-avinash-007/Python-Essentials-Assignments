{
 "cells": [
  {
   "cell_type": "markdown",
   "metadata": {},
   "source": [
    "# Use if else and elif to write a program for your report card."
   ]
  },
  {
   "cell_type": "code",
   "execution_count": 2,
   "metadata": {},
   "outputs": [
    {
     "name": "stdout",
     "output_type": "stream",
     "text": [
      "Enter your name: Avinash Shandilya\n",
      "Enter your Class: 12\n",
      "Enter the subject to know your grade: maths\n",
      "Enter the marks: 81\n",
      "Congratulations! Avinash Shandilya your grade is A in maths and you've successfully qualified 12 th class.\n"
     ]
    }
   ],
   "source": [
    "# This program has been coded by Avinash Shandlilya in JUPYTER NOTEBOOK.\n",
    "\n",
    "name = input(\"Enter your name: \");\n",
    "standard = int(input(\"Enter your Class: \"));\n",
    "subject = input(\"Enter the subject to know your grade: \");\n",
    "marks_in_sub = int(input(\"Enter the marks: \"));\n",
    "# code for giving grades:\n",
    "if marks_in_sub >= 90:\n",
    "    print(\"Congratulations!\",name,\"your grade is A+ in\",subject,\"and you've successfully qualified\",standard,\"th class.\");    \n",
    "elif marks_in_sub >= 80 and marks_in_sub < 90:\n",
    "    print(\"Congratulations!\",name,\"your grade is A in\",subject,\"and you've successfully qualified\",standard,\"th class.\");    \n",
    "elif marks_in_sub >= 70 and marks_in_sub < 80:\n",
    "    print(\"Congratulations!\",name,\"your grade is B+ in\",subject,\"and you've successfully qualified\",standard,\"th class.\");  \n",
    "elif marks_in_sub >= 60 and marks_in_sub < 70:\n",
    "    print(\"Congratulations!\",name,\"your grade is B in\",subject,\"and you've successfully qualified\",standard,\"th class.\");  \n",
    "elif marks_in_sub >= 50 and marks_in_sub < 60:\n",
    "    print(\"Congratulations!\",name,\"your grade is C in\",subject,\"and you've successfully qualified\",standard,\"th class.\");\n",
    "elif marks_in_sub >= 40 and marks_in_sub < 50:\n",
    "    print(\"Congratulations!\",name,\"your grade is D in\",subject,\"and you've successfully qualified\",standard,\"th class.\");\n",
    "else:\n",
    "    print(\"Sorry!\",name,\"your grade is F in\",subject,\"and you've not qualified\",standard,\"th class.\");\n",
    "\n"
   ]
  },
  {
   "cell_type": "markdown",
   "metadata": {},
   "source": [
    "# Q.2) Use for loop to print prime numbers between 1 to 1000."
   ]
  },
  {
   "cell_type": "code",
   "execution_count": 3,
   "metadata": {},
   "outputs": [
    {
     "name": "stdout",
     "output_type": "stream",
     "text": [
      " 2   3   5   7   11   13   17   19   23   29   31   37   41   43   47   53   59   61   67   71   73   79   83   89   97   101   103   107   109   113   127   131   137   139   149   151   157   163   167   173   179   181   191   193   197   199   211   223   227   229   233   239   241   251   257   263   269   271   277   281   283   293   307   311   313   317   331   337   347   349   353   359   367   373   379   383   389   397   401   409   419   421   431   433   439   443   449   457   461   463   467   479   487   491   499   503   509   521   523   541   547   557   563   569   571   577   587   593   599   601   607   613   617   619   631   641   643   647   653   659   661   673   677   683   691   701   709   719   727   733   739   743   751   757   761   769   773   787   797   809   811   821   823   827   829   839   853   857   859   863   877   881   883   887   907   911   919   929   937   941   947   953   967   971   977   983   991   997  "
     ]
    }
   ],
   "source": [
    "# This code has been coded by Avinash Shandilya in JUPYTER NOTEBOOK.\n",
    " \n",
    "for Number in range (1, 1001):\n",
    "    count = 0\n",
    "    for i in range(2, (Number//2 + 1)):\n",
    "        if(Number % i == 0):\n",
    "            count = count + 1\n",
    "            break\n",
    "\n",
    "    if (count == 0 and Number != 1):\n",
    "        print(\" %d\" %Number, end = '  ')"
   ]
  },
  {
   "cell_type": "markdown",
   "metadata": {},
   "source": [
    "# Q.3) Write the program for printing the tables from (1,10) using nested for loop."
   ]
  },
  {
   "cell_type": "code",
   "execution_count": 4,
   "metadata": {},
   "outputs": [
    {
     "name": "stdout",
     "output_type": "stream",
     "text": [
      "Enter the number: 17\n",
      "Multiplication Table of 17\n",
      "17 X 1 = 17\n",
      "17 X 2 = 34\n",
      "17 X 3 = 51\n",
      "17 X 4 = 68\n",
      "17 X 5 = 85\n",
      "17 X 6 = 102\n",
      "17 X 7 = 119\n",
      "17 X 8 = 136\n",
      "17 X 9 = 153\n",
      "17 X 10 = 170\n"
     ]
    }
   ],
   "source": [
    "# This program has been coded by Avinash Shandilya in JUPYTER NOTEBOOK.\n",
    "num = int(input(\"Enter the number: \"))\n",
    "print(\"Multiplication Table of\", num)\n",
    "for i in range(1, 11):\n",
    "   print(num,\"X\",i,\"=\",num * i)"
   ]
  },
  {
   "cell_type": "markdown",
   "metadata": {},
   "source": [
    "# Q.4) Write a program to print x prime numbers using while loop starting from 0, and take input of x from the user."
   ]
  },
  {
   "cell_type": "code",
   "execution_count": 13,
   "metadata": {},
   "outputs": [
    {
     "name": "stdout",
     "output_type": "stream",
     "text": [
      "Enter a number: 15\n",
      "1\n",
      "This is not a prime number.\n",
      "2\n",
      "This is a prime number.\n",
      "3\n",
      "This is not a prime number.\n",
      "4\n",
      "This is a prime number.\n",
      "5\n",
      "This is not a prime number.\n",
      "6\n",
      "This is a prime number.\n",
      "7\n",
      "This is not a prime number.\n",
      "8\n",
      "This is a prime number.\n",
      "9\n",
      "This is not a prime number.\n",
      "10\n",
      "This is a prime number.\n",
      "11\n",
      "This is not a prime number.\n",
      "12\n",
      "This is a prime number.\n",
      "13\n",
      "This is not a prime number.\n",
      "14\n",
      "This is a prime number.\n",
      "15\n",
      "This is not a prime number.\n",
      "16\n",
      "This is a prime number.\n"
     ]
    }
   ],
   "source": [
    "# This program has been coded  by Avinash Shandilya in JUPYTER NOTEBOOK.\n",
    "a = int(input(\"Enter a number: \"))\n",
    "b = 0\n",
    "while(b <= a):\n",
    "    b = b + 1\n",
    "    if(b%2 == 0):\n",
    "        print(b)\n",
    "        print(\"This is a prime number.\")\n",
    "    else:\n",
    "        print(b)\n",
    "        print(\"This is not a prime number.\")"
   ]
  },
  {
   "cell_type": "code",
   "execution_count": null,
   "metadata": {},
   "outputs": [],
   "source": []
  }
 ],
 "metadata": {
  "kernelspec": {
   "display_name": "Python 3",
   "language": "python",
   "name": "python3"
  }
 },
 "nbformat": 4,
 "nbformat_minor": 4
}
